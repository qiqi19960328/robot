{
 "cells": [
  {
   "cell_type": "code",
   "execution_count": 1,
   "metadata": {},
   "outputs": [],
   "source": [
    "import pandas as pd\n",
    "import numpy as np"
   ]
  },
  {
   "cell_type": "code",
   "execution_count": 2,
   "metadata": {},
   "outputs": [],
   "source": [
    "sp500_data=pd.read_csv(r'C:\\Users\\lenovo\\Desktop\\hult course\\fintech/sp500.csv')"
   ]
  },
  {
   "cell_type": "code",
   "execution_count": 12,
   "metadata": {},
   "outputs": [
    {
     "name": "stdin",
     "output_type": "stream",
     "text": [
      "Which tickers do you hold now (separate with space): AAPL MSFT\n",
      "How many shares do you hold now (separate with space): 100 200\n",
      "How much funds do you want to invest: 1000\n"
     ]
    }
   ],
   "source": [
    "tickers = input(\"Which tickers do you hold now (separate with space):\")\n",
    "client_tickers = tickers.split()\n",
    "    \n",
    "shares = input(\"How many shares do you hold now (separate with space):\")\n",
    "client_shares_non_int = shares.split()\n",
    "    \n",
    "funds = input(\"How much funds do you want to invest:\")\n",
    "client_funds_non_int = funds.split()"
   ]
  },
  {
   "cell_type": "code",
   "execution_count": 13,
   "metadata": {},
   "outputs": [
    {
     "name": "stdout",
     "output_type": "stream",
     "text": [
      "Your tickers:  ['AAPL', 'MSFT'] Your shares:  ['100', '200'] Your funds:  ['1000']\n"
     ]
    }
   ],
   "source": [
    "print(\"Your tickers: \", client_tickers,\n",
    "      \"Your shares: \", client_shares_non_int,\n",
    "      \"Your funds: \", client_funds_non_int)"
   ]
  },
  {
   "cell_type": "code",
   "execution_count": 14,
   "metadata": {},
   "outputs": [],
   "source": [
    "client_shares = []\n",
    "\n",
    "for i in range(len(client_shares_non_int)):\n",
    "    client_shares.append(int(client_shares_non_int[i]))\n",
    "    \n",
    "client_funds = int(client_funds_non_int[0])"
   ]
  },
  {
   "cell_type": "code",
   "execution_count": 15,
   "metadata": {},
   "outputs": [],
   "source": [
    "client_input = zip(client_tickers, client_shares)\n",
    "client_input = pd.DataFrame(client_input)\n",
    "client_input.columns = ['Ticker','Shares']"
   ]
  },
  {
   "cell_type": "code",
   "execution_count": 16,
   "metadata": {},
   "outputs": [],
   "source": [
    "index_weights = pd.merge(client_input, sp500_data, how='left', left_on='Ticker',right_on='Symbol')\n",
    "index_weights = index_weights.drop(['Symbol'],axis=1)"
   ]
  },
  {
   "cell_type": "code",
   "execution_count": 17,
   "metadata": {},
   "outputs": [],
   "source": [
    "total_weight = index_weights['Weight'].sum()\n",
    "index_weights['Norm. weight'] = [i/total_weight for i in index_weights['Weight']]"
   ]
  },
  {
   "cell_type": "code",
   "execution_count": 18,
   "metadata": {},
   "outputs": [],
   "source": [
    "value=[]\n",
    "\n",
    "for i in range(len(index_weights['Ticker'])):\n",
    "    value.append(index_weights['Shares'][i] * index_weights['Price'][i])\n",
    "    \n",
    "index_weights['Value'] = value\n",
    "\n",
    "total_wealth = index_weights['Value'].sum() + client_funds"
   ]
  },
  {
   "cell_type": "code",
   "execution_count": 19,
   "metadata": {},
   "outputs": [
    {
     "name": "stdout",
     "output_type": "stream",
     "text": [
      "  Ticker  Shares\n",
      "0   AAPL     100\n",
      "1   MSFT     200\n"
     ]
    }
   ],
   "source": [
    "print(client_input)"
   ]
  },
  {
   "cell_type": "code",
   "execution_count": 20,
   "metadata": {},
   "outputs": [
    {
     "name": "stdout",
     "output_type": "stream",
     "text": [
      "        Adj transaction\n",
      "Ticker                 \n",
      "AAPL                  5\n",
      "MSFT                 -4\n"
     ]
    }
   ],
   "source": [
    "portfolio_adjustments = []\n",
    "\n",
    "for i in range(len(client_tickers)):\n",
    "    optimal_shares = total_wealth * index_weights.loc[i, 'Norm. weight']/index_weights.loc[i, 'Price']\n",
    "    change_shares = int(optimal_shares - client_shares[i])\n",
    "    portfolio_adjustments.append(change_shares)\n",
    "\n",
    "\n",
    "adjustment_proposal = zip(client_tickers,portfolio_adjustments)\n",
    "adjustment_proposal = pd.DataFrame(adjustment_proposal)\n",
    "adjustment_proposal.columns = ['Ticker','Adj transaction']\n",
    "adjustment_proposal.set_index(['Ticker'],inplace = True)\n",
    "\n",
    "print(adjustment_proposal)"
   ]
  },
  {
   "cell_type": "code",
   "execution_count": null,
   "metadata": {},
   "outputs": [],
   "source": []
  }
 ],
 "metadata": {
  "kernelspec": {
   "display_name": "Python 3",
   "language": "python",
   "name": "python3"
  },
  "language_info": {
   "codemirror_mode": {
    "name": "ipython",
    "version": 3
   },
   "file_extension": ".py",
   "mimetype": "text/x-python",
   "name": "python",
   "nbconvert_exporter": "python",
   "pygments_lexer": "ipython3",
   "version": "3.7.3"
  }
 },
 "nbformat": 4,
 "nbformat_minor": 4
}
